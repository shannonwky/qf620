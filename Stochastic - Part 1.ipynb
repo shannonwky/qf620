{
 "cells": [
  {
   "cell_type": "markdown",
   "id": "7c2ac12c",
   "metadata": {},
   "source": [
    "# Part 1: Analytical Option Formula"
   ]
  },
  {
   "cell_type": "markdown",
   "id": "454b3654",
   "metadata": {},
   "source": [
    "Consider the following European options:\\\n",
    "• Vanilla call/put\\\n",
    "• Digital cash-or-nothing call/put\\\n",
    "• Digital asset-or-nothing call/put\\\n",
    "\\\n",
    "Derive and implement the following models to value these options in Python:\\\n",
    "1 Black-Scholes model\\\n",
    "2 Bachelier model\\\n",
    "3 Black76 model\\\n",
    "4 Displaced-diffusion model"
   ]
  },
  {
   "cell_type": "markdown",
   "id": "192b5bb5",
   "metadata": {},
   "source": [
    "###### First step: Import the neccesary libraries"
   ]
  },
  {
   "cell_type": "code",
   "execution_count": 1,
   "id": "ded2bd9c",
   "metadata": {},
   "outputs": [],
   "source": [
    "import numpy as np\n",
    "from scipy.stats import norm"
   ]
  },
  {
   "cell_type": "markdown",
   "id": "b0647ba5",
   "metadata": {},
   "source": [
    " ## <a id = \"top\">Table of Contents</a>"
   ]
  },
  {
   "cell_type": "markdown",
   "id": "7bbf2032",
   "metadata": {},
   "source": [
    "## [1. Black-Scholes Model](#p1)\n",
    "## [2. Bachelier Model](#p2)\n",
    "## [3. Black76 Model](#p3)\n",
    "## [4. Displaced-Diffusion Model](#p4)"
   ]
  },
  {
   "cell_type": "markdown",
   "id": "0b76c597",
   "metadata": {},
   "source": [
    "## <a id = \"p1\"> 1. </a> <font color = \"green\"> Black-Scholes Model </font> [back to table of contents](#top)"
   ]
  },
  {
   "cell_type": "markdown",
   "id": "86e4089e",
   "metadata": {},
   "source": [
    "### Vanilla Call / Put Option"
   ]
  },
  {
   "cell_type": "markdown",
   "id": "67082cfd",
   "metadata": {},
   "source": [
    "\\begin{equation*}\n",
    "V_{call} = S_0 \\Phi (d_1) - Ke^{-rT} \\Phi(d_2)\n",
    "\\end{equation*}\n",
    "\n",
    "\\begin{equation*}\n",
    "V_{put} = Ke^{-rT} \\Phi(-d_2) + S_0 \\Phi (-d_1) \n",
    "\\end{equation*}\n",
    "\n",
    "Where:\n",
    "\\begin{equation*}\n",
    "d_1 = \\frac{\\log\\left(\\frac{S_0}{K}\\right) + \\left(r + \\frac{\\sigma^2}{2}\\right)T}{\\sigma \\sqrt{T}}\n",
    "\\end{equation*}\n",
    "\n",
    "\\begin{equation*}\n",
    "d_2 = d_1 - \\sigma \\sqrt{T}\n",
    "\\end{equation*}\n"
   ]
  },
  {
   "cell_type": "code",
   "execution_count": 2,
   "id": "566e21b2",
   "metadata": {},
   "outputs": [],
   "source": [
    "# Call Option\n",
    "def BS_Call(r, S0, K, T, sigma):\n",
    "    discount_factor = np.exp(-r*T)\n",
    "    d1 = (np.log(S0/K) + (r + (sigma**2)/2)*T) /(sigma*np.sqrt(T))  \n",
    "    d2 = d1 - sigma*np.sqrt(T)\n",
    "    price = S0 * norm.cdf(d1, loc = 0, scale = 1) - K * discount_factor * norm.cdf(d2, loc = 0, scale = 1)\n",
    "    return price"
   ]
  },
  {
   "cell_type": "code",
   "execution_count": 3,
   "id": "951e188a",
   "metadata": {},
   "outputs": [],
   "source": [
    "# Put Option\n",
    "def BS_Put(r, S0, K, T, sigma):\n",
    "    discount_factor = np.exp(-r*T)\n",
    "    d1 = (np.log(S0/K) + (r + (sigma**2)/2)*T) /(sigma*np.sqrt(T))  \n",
    "    d2 = d1 - sigma*np.sqrt(T)\n",
    "    price = K * discount_factor * norm.cdf(-d2, loc = 0, scale = 1) - S0 * norm.cdf(-d1, loc = 0, scale = 1)\n",
    "    return price"
   ]
  },
  {
   "cell_type": "markdown",
   "id": "cb58714b",
   "metadata": {},
   "source": [
    "### Digital Cash-Or-Nothing Call / Put Option"
   ]
  },
  {
   "cell_type": "markdown",
   "id": "043e6d7a",
   "metadata": {},
   "source": [
    "\\begin{equation*}\n",
    "Cash Or Nothing_{call} = e^{-rT} \\Phi(d_2)\n",
    "\\end{equation*}\n",
    "\n",
    "\\begin{equation*}\n",
    "Cash Or Nothing_{put} = e^{-rT} \\Phi(-d_2)\n",
    "\\end{equation*}"
   ]
  },
  {
   "cell_type": "code",
   "execution_count": 4,
   "id": "69f1b2a9",
   "metadata": {},
   "outputs": [],
   "source": [
    "# Call Option\n",
    "def CashON_BS_Call(r, S0, K, T, sigma, Cash):\n",
    "    discount_factor = np.exp(-r*T)\n",
    "    d1 = (np.log(S0/K) + (r + sigma**2/2)*T) /(sigma*np.sqrt(T))  \n",
    "    d2 = d1 - sigma*np.sqrt(T)\n",
    "    price = Cash * discount_factor * norm.cdf(d2, loc = 0, scale = 1)\n",
    "    return price "
   ]
  },
  {
   "cell_type": "code",
   "execution_count": 5,
   "id": "063f9db5",
   "metadata": {},
   "outputs": [],
   "source": [
    "# Put Option\n",
    "def CashON_BS_Put(r, S0, K, T, sigma, Cash):\n",
    "    discount_factor = np.exp(-r*T)\n",
    "    d1 = (np.log(S0/K) + (r + sigma**2/2)*T) /(sigma*np.sqrt(T))  \n",
    "    d2 = d1 - sigma*np.sqrt(T)\n",
    "    price = Cash * discount_factor * norm.cdf(-d2, loc = 0, scale = 1)\n",
    "    return price "
   ]
  },
  {
   "cell_type": "markdown",
   "id": "7b3edf57",
   "metadata": {},
   "source": [
    "### Digital Asset-Or-Nothing Call / Put Option"
   ]
  },
  {
   "cell_type": "markdown",
   "id": "116c358f",
   "metadata": {},
   "source": [
    "\\begin{equation*}\n",
    "Asset Or Nothing_{call} = S_0 \\Phi (d_1)\n",
    "\\end{equation*}\n",
    "\n",
    "\\begin{equation*}\n",
    "Asset Or Nothing_{put} = S_0 \\Phi (-d_1)\n",
    "\\end{equation*}"
   ]
  },
  {
   "cell_type": "code",
   "execution_count": 6,
   "id": "3dc5afef",
   "metadata": {},
   "outputs": [],
   "source": [
    "def AssetON_BS_Call(r, S0, K, T, sigma):\n",
    "    d1 = (np.log(S0/K) + (r + sigma**2/2)*T) /(sigma*np.sqrt(T))  \n",
    "    price = S0 * norm.cdf(d1, loc = 0, scale = 1)\n",
    "    return price "
   ]
  },
  {
   "cell_type": "code",
   "execution_count": 7,
   "id": "ec6e2c36",
   "metadata": {},
   "outputs": [],
   "source": [
    "def AssetON_BS_Put(r, S0, K, T, sigma):\n",
    "    d1 = (np.log(S0/K) + (r + sigma**2/2)*T) /(sigma*np.sqrt(T))  \n",
    "    price = S0 * norm.cdf(-d1, loc = 0, scale = 1)\n",
    "    return price "
   ]
  },
  {
   "cell_type": "markdown",
   "id": "eaa287aa",
   "metadata": {},
   "source": [
    "## <a id = \"p2\"> 2. </a> <font color = \"green\"> Bachelier Model </font> [back to table of contents](#top)"
   ]
  },
  {
   "cell_type": "markdown",
   "id": "4bc984cd",
   "metadata": {},
   "source": [
    "### Vanilla Call / Put Option"
   ]
  },
  {
   "cell_type": "markdown",
   "id": "5ffbeee9",
   "metadata": {},
   "source": [
    "\\begin{equation*}\n",
    "V_{call} = e^{-rT} \\left( (S_0 - K) \\Phi(c) + \\sigma \\sqrt{T} \\phi(c) \\right)\n",
    "\\end{equation*}\n",
    "\n",
    "\\begin{equation*}\n",
    "V_{put} =e^{-rT} \\left( (K - S_0) \\Phi(-c) + \\sigma \\sqrt{T} \\phi(-c) \\right)\n",
    "\\end{equation*}\n",
    "\n",
    "Where:\n",
    "\\begin{equation*}\n",
    "c = \\frac{S_0 - K}{\\sigma \\sqrt{T}}\n",
    "\\end{equation*}"
   ]
  },
  {
   "cell_type": "code",
   "execution_count": 8,
   "id": "949f8b1c",
   "metadata": {},
   "outputs": [],
   "source": [
    "def Bachelier_Call(r, S0, K, T, sigma):\n",
    "    discount_factor = np.exp(-r*T)\n",
    "    c = (S0-K) / (sigma*np.sqrt(T))\n",
    "    price = discount_factor * ((S0-K)*norm.cdf(c, loc = 0, scale = 1) + sigma * np.sqrt(T)*norm.pdf(c))\n",
    "    return price"
   ]
  },
  {
   "cell_type": "code",
   "execution_count": 31,
   "id": "9a029aa8",
   "metadata": {},
   "outputs": [],
   "source": [
    "def Bachelier_Put(r, S0, K, T, sigma):\n",
    "    discount_factor = np.exp(-r*T)\n",
    "    c = (S0 - K) / (sigma*np.sqrt(T))\n",
    "    price = discount_factor * ((K-S0)*norm.cdf(-c, loc = 0, scale = 1) + sigma * np.sqrt(T)*norm.pdf(-c))\n",
    "    return price"
   ]
  },
  {
   "cell_type": "markdown",
   "id": "83639008",
   "metadata": {},
   "source": [
    "### Digital Cash-Or-Nothing Call / Put Option"
   ]
  },
  {
   "cell_type": "markdown",
   "id": "fb3e6c82",
   "metadata": {},
   "source": [
    "\\begin{equation*}\n",
    "Cash Or Nothing_{call} = e^{-rT} \\Phi(c)\n",
    "\\end{equation*}\n",
    "\n",
    "\\begin{equation*}\n",
    "Cash Or Nothing_{put} = e^{-rT} \\Phi(-c)\n",
    "\\end{equation*}"
   ]
  },
  {
   "cell_type": "code",
   "execution_count": 10,
   "id": "1a48b426",
   "metadata": {},
   "outputs": [],
   "source": [
    "def CashON_Bachelier_Call(r, S0, K, T, sigma, Cash):\n",
    "    discount_factor = np.exp(-r*T)\n",
    "    c = (S0-K) / (sigma*np.sqrt(T))\n",
    "    price = discount_factor*norm.cdf(c) * Cash\n",
    "    return price if S0 >= K else 0.0"
   ]
  },
  {
   "cell_type": "code",
   "execution_count": 11,
   "id": "69e40c28",
   "metadata": {},
   "outputs": [],
   "source": [
    "def CashON_Bachelier_Put(r, S0, K, T, sigma, Cash):\n",
    "    discount_factor = np.exp(-r*T)\n",
    "    c = (S0-K) / (sigma*np.sqrt(T))\n",
    "    price = discount_factor*norm.cdf(-c) * Cash\n",
    "    return price if S0 <= K else 0.0"
   ]
  },
  {
   "cell_type": "markdown",
   "id": "dfd49e1d",
   "metadata": {},
   "source": [
    "### Asset Cash-Or-Nothing Call / Put Option"
   ]
  },
  {
   "cell_type": "markdown",
   "id": "6fccd17c",
   "metadata": {},
   "source": [
    "\\begin{equation*}\n",
    "Asset Or Nothing_{call} = S_0 \\left( \\Phi(c) + \\sigma \\sqrt{T} \\phi(c) \\right)\n",
    "\\end{equation*}\n",
    "\n",
    "\\begin{equation*}\n",
    "Asset Or Nothing_{put} = S_0 \\left( \\Phi(-c) + \\sigma \\sqrt{T} \\phi(c) \\right)\n",
    "\\end{equation*}"
   ]
  },
  {
   "cell_type": "code",
   "execution_count": 12,
   "id": "f9af614d",
   "metadata": {},
   "outputs": [],
   "source": [
    "def AssetON_Bachelier_Call(r, S0, K, T, sigma):\n",
    "    c = (S0-K) / (sigma*np.sqrt(T))\n",
    "    price = S0*(norm.cdf(c) +sigma*np.sqrt(T)*norm.pdf(c))\n",
    "    return price"
   ]
  },
  {
   "cell_type": "code",
   "execution_count": 13,
   "id": "e579f604",
   "metadata": {},
   "outputs": [],
   "source": [
    "def AssetON_Bachelier_Put(r, S0, K, T, sigma):\n",
    "    discount_factor = np.exp(-r*T)\n",
    "    c = (S0-K) / (sigma*np.sqrt(T))\n",
    "    price = S0*(norm.cdf(c) +sigma*np.sqrt(T)*norm.pdf(c))\n",
    "    return price "
   ]
  },
  {
   "cell_type": "markdown",
   "id": "9506b457",
   "metadata": {},
   "source": [
    "## <a id = \"p3\"> 3. </a> <font color = \"green\"> Black76 Model </font> [back to table of contents](#top)"
   ]
  },
  {
   "cell_type": "markdown",
   "id": "f290eb31",
   "metadata": {},
   "source": [
    "### Vanilla Call / Put Option"
   ]
  },
  {
   "cell_type": "markdown",
   "id": "53113fb2",
   "metadata": {},
   "source": [
    "\\begin{equation*}\n",
    "V_{call} = e^{-rT} \\left(F\\Phi(d_1) - K\\Phi(d_2)\\right)\n",
    "\\end{equation*}\n",
    "\n",
    "\\begin{equation*}\n",
    "V_{put} = e^{-rT} \\left(K\\Phi(-d_2) - F\\Phi(-d_1)\\right)\n",
    "\\end{equation*}\n",
    "\n",
    "Where:\n",
    "\\begin{equation*}\n",
    "d_1 = \\frac{\\ln\\left(\\frac{F}{K}\\right) + \\frac{1}{2}\\sigma^2T}{\\sigma\\sqrt{T}}\n",
    "\\end{equation*}\n",
    "\n",
    "\\begin{equation*}\n",
    "d_2 = d_1 - \\sigma \\sqrt{T}\n",
    "\\end{equation*}"
   ]
  },
  {
   "cell_type": "code",
   "execution_count": 14,
   "id": "aa07f6d6",
   "metadata": {},
   "outputs": [],
   "source": [
    "def black76_Call(r, S0, K, T, sigma):\n",
    "    discount_factor = np.exp(-r*T)\n",
    "    F = S0*np.exp(r*T)\n",
    "    d1 = (np.log(F/K)+(1/2)*(sigma**2)*T)/(sigma*np.sqrt(T))\n",
    "    d2 = d1 - sigma * np.sqrt(T)\n",
    "    price = discount_factor * ((F*norm.cdf(d1, loc = 0, scale = 1)) - (K*norm.cdf(d2, loc = 0, scale = 1)))\n",
    "    return price"
   ]
  },
  {
   "cell_type": "code",
   "execution_count": 15,
   "id": "a6e41f00",
   "metadata": {},
   "outputs": [],
   "source": [
    "def black76_Put(r, S0, K, T, sigma):\n",
    "    discount_factor = np.exp(-r*T)\n",
    "    F = S0*np.exp(r*T)\n",
    "    d1 = (np.log(F/K)+1/2*(sigma**2)*T)/(sigma*np.sqrt(T))\n",
    "    d2 = d1 - sigma * np.sqrt(T)\n",
    "    price = discount_factor * ((K*norm.cdf(-d2, loc = 0, scale = 1)) - (F*norm.cdf(-d1, loc = 0, scale = 1)))\n",
    "    return price"
   ]
  },
  {
   "cell_type": "markdown",
   "id": "6763ebb0",
   "metadata": {},
   "source": [
    "### Digital Cash-Or-Nothing Call / Put Option"
   ]
  },
  {
   "cell_type": "markdown",
   "id": "fe10284c",
   "metadata": {},
   "source": [
    "\\begin{equation*}\n",
    "Cash Or Nothing_{call} = e^{-rT} \\Phi(d_2)\n",
    "\\end{equation*}\n",
    "\n",
    "\\begin{equation*}\n",
    "Cash Or Nothing_{put} = e^{-rT} \\Phi(-d_2)\n",
    "\\end{equation*}"
   ]
  },
  {
   "cell_type": "code",
   "execution_count": 16,
   "id": "a807b330",
   "metadata": {},
   "outputs": [],
   "source": [
    "def CashON_black76_Call(r, S0, K, T, sigma, Cash):\n",
    "    discount_factor = np.exp(-r*T)\n",
    "    F = S0 * np.exp(r*T)\n",
    "    d1 = (np.log(F/K)+1/2*(sigma**2)*T)/(sigma*np.sqrt(T))\n",
    "    d2 = d1 - sigma * np.sqrt(T)\n",
    "    price = Cash *(discount_factor* (norm.cdf(d2, loc = 0, scale = 1)))\n",
    "    return price if S0 >= K else 0.0"
   ]
  },
  {
   "cell_type": "code",
   "execution_count": 17,
   "id": "33e8a25e",
   "metadata": {},
   "outputs": [],
   "source": [
    "def CashON_black76_Put(r, S0, K, T, sigma, Cash):\n",
    "    discount_factor = np.exp(-r*T)\n",
    "    F = S0 * np.exp(r*T)\n",
    "    d1 = (np.log(F/K)+1/2*(sigma**2)*T)/(sigma*np.sqrt(T))\n",
    "    d2 = d1 - sigma * np.sqrt(T)\n",
    "    price = Cash * (discount_factor* (norm.cdf(-d2, loc = 0, scale = 1)))\n",
    "    return price if S0 >= K else 0.0"
   ]
  },
  {
   "cell_type": "markdown",
   "id": "e30c747f",
   "metadata": {},
   "source": [
    "### Asset Cash-Or-Nothing Call / Put Option"
   ]
  },
  {
   "cell_type": "markdown",
   "id": "81d94743",
   "metadata": {},
   "source": [
    "\\begin{equation*}\n",
    "Asset Or Nothing_{call} = e^{-rT} {F}\\Phi(d_1)\n",
    "\\end{equation*}\n",
    "\n",
    "\\begin{equation*}\n",
    "Asset Or Nothing_{put} = e^{-rT} {F} \\Phi(-d_1)\n",
    "\\end{equation*}"
   ]
  },
  {
   "cell_type": "code",
   "execution_count": 18,
   "id": "dfa2f75f",
   "metadata": {},
   "outputs": [],
   "source": [
    "def AssetON_black76_Call(r, S0, K, T, sigma):\n",
    "    discount_factor = np.exp(-r*T)\n",
    "    F = S0 * np.exp(r*T)\n",
    "    d1 = (np.log(F/K)+1/2*(sigma**2)*T)/(sigma*np.sqrt(T))\n",
    "    d2 = d1 - sigma * np.sqrt(T)\n",
    "    price = discount_factor*F*(norm.cdf(d1, loc = 0, scale = 1))\n",
    "    return price "
   ]
  },
  {
   "cell_type": "code",
   "execution_count": 19,
   "id": "a586bb23",
   "metadata": {},
   "outputs": [],
   "source": [
    "def AssetON_black76_Put(r, S0, K, T, sigma):\n",
    "    discount_factor = np.exp(-r*T)\n",
    "    F = S0 * np.exp(r*T)\n",
    "    d1 = (np.log(F/K)+1/2*(sigma**2)*T)/(sigma*np.sqrt(T))\n",
    "    d2 = d1 - sigma * np.sqrt(T)\n",
    "    price = discount_factor*F*(norm.cdf(-d1, loc = 0, scale = 1))\n",
    "    return price "
   ]
  },
  {
   "cell_type": "markdown",
   "id": "27572032",
   "metadata": {},
   "source": [
    "## <a id = \"p4\"> 4. </a> <font color = \"green\"> Displace-Diffusion Model </font> [back to table of contents](#top)"
   ]
  },
  {
   "cell_type": "markdown",
   "id": "e6e7d0a7",
   "metadata": {},
   "source": [
    "### Vanilla Call / Put Option"
   ]
  },
  {
   "cell_type": "markdown",
   "id": "be2d5aff",
   "metadata": {},
   "source": [
    "\\begin{equation*}\n",
    "V_{call} = e^{-rT}\\left(\\frac{F}{\\beta} \\Phi(d_1) - \\left(K + \\frac{1-\\beta}{\\beta}F\\right) \\Phi(d_2)\\right)\n",
    "\\end{equation*}\n",
    "\n",
    "\\begin{equation*}\n",
    "V_{put} =e^{-rT}\\left(\\left(K + \\frac{1-\\beta}{\\beta}F\\right) \\Phi(-d_2) - \\frac{F}{\\beta} \\Phi(-d_1)\\right)\n",
    "\\end{equation*}\n",
    "\n",
    "\n",
    "Where:\n",
    "\\begin{equation*}\n",
    "d_1 = \\frac{\\log\\left(\\frac{\\frac{F_0}{\\beta}}{K+\\frac{(1-\\beta)}{\\beta} F_0}\\right) + \\frac{1}{2} \\sigma^2 \\beta^2 T}{\\sigma\\beta\\sqrt{T}}\n",
    "\\end{equation*}\n",
    "\n",
    "\\begin{equation*}\n",
    "d_2 = d_1 - \\sigma \\beta \\sqrt{T}\n",
    "\\end{equation*}"
   ]
  },
  {
   "cell_type": "code",
   "execution_count": 20,
   "id": "371e1ec1",
   "metadata": {},
   "outputs": [],
   "source": [
    "def DD_Call (r, S0, K, T, sigma, beta) :\n",
    "    discount_factor = np.exp(-r*T)\n",
    "    F = S0 * np.exp(r*T)\n",
    "    d1 = (np.log((F / beta) / (K + ((1-beta) / beta) *F))  + (1/2 * T * sigma **2 * beta **2)) / (sigma * beta * np.sqrt(T))\n",
    "    d2 = d1 - sigma * beta * np.sqrt(T)\n",
    "    price = discount_factor * (((F/beta) * norm.cdf (d1, loc = 0, scale = 1)) - (K + ((1-beta) / beta) *F) * norm.cdf(d2, loc = 0, scale = 1))\n",
    "    return price"
   ]
  },
  {
   "cell_type": "code",
   "execution_count": 21,
   "id": "6ca82841",
   "metadata": {},
   "outputs": [],
   "source": [
    "def DD_Put (r, S0, K, T, sigma, beta) :\n",
    "    discount_factor = np.exp(-r*T)\n",
    "    F = S0 * np.exp(r*T)\n",
    "    d1 = (np.log((F / beta) / (K + ((1-beta) / beta) *F))  + (1/2 * T * sigma **2 * beta **2)) / (sigma * beta * np.sqrt(T))\n",
    "    d2 = d1 - sigma * beta * np.sqrt(T)\n",
    "    price = discount_factor * (((K + ((1-beta) / beta) *F) * norm.cdf (-d2, loc = 0, scale = 1)) - (F/beta) * norm.cdf(-d1, loc = 0, scale = 1))\n",
    "    return price"
   ]
  },
  {
   "cell_type": "markdown",
   "id": "e2d77043",
   "metadata": {},
   "source": [
    "### Digital Cash-Or-Nothing Call / Put Option"
   ]
  },
  {
   "cell_type": "markdown",
   "id": "ed50a389",
   "metadata": {},
   "source": [
    "\\begin{equation*}\n",
    "Cash Or Nothing_{call} = e^{-rT} \\Phi(d_2)\n",
    "\\end{equation*}\n",
    "\n",
    "\\begin{equation*}\n",
    "Cash Or Nothing_{put} = e^{-rT} \\Phi(-d_2)\n",
    "\\end{equation*}"
   ]
  },
  {
   "cell_type": "code",
   "execution_count": 22,
   "id": "e866eeb0",
   "metadata": {},
   "outputs": [],
   "source": [
    "def CashON_DD_Call (r, S0, K, T, sigma, beta, Cash) :\n",
    "    discount_factor = np.exp(-r*T)\n",
    "    F = S0 * np.exp(r*T)\n",
    "    d1 = (np.log((F / beta) / (K + ((1-beta) / beta) *F))  + (1/2 * T * sigma **2 * beta **2)) / (sigma * beta * np.sqrt(T))\n",
    "    d2 = d1 - sigma * beta * np.sqrt(T)\n",
    "    price = Cash * (discount_factor * norm.cdf(d2, loc = 0, scale = 1))\n",
    "    return price"
   ]
  },
  {
   "cell_type": "code",
   "execution_count": 23,
   "id": "00836b28",
   "metadata": {},
   "outputs": [],
   "source": [
    "def CashON_DD_Put (r, S0, K, T, sigma, beta, Cash) :\n",
    "    discount_factor = np.exp(-r*T)\n",
    "    F = S0 * np.exp(r*T)\n",
    "    d1 = (np.log((F / beta) / (K + ((1-beta) / beta) *F))  + (1/2 * T * sigma **2 * beta **2)) / (sigma * beta * np.sqrt(T))\n",
    "    d2 = d1 - sigma * beta * np.sqrt(T)\n",
    "    price = Cash * (discount_factor * norm.cdf(-d2, loc = 0, scale = 1))\n",
    "    return price "
   ]
  },
  {
   "cell_type": "markdown",
   "id": "aad8d861",
   "metadata": {},
   "source": [
    "### Asset Cash-Or-Nothing Call / Put Option"
   ]
  },
  {
   "cell_type": "markdown",
   "id": "25b496f3",
   "metadata": {},
   "source": [
    "\\begin{equation*}\n",
    "Asset Or Nothing_{call} = e^{-rT} \\frac{F}{\\beta} \\Phi(d_1)\n",
    "\\end{equation*}\n",
    "\n",
    "\\begin{equation*}\n",
    "Asset Or Nothing_{put} = e^{-rT} \\frac{F}{\\beta} \\Phi(-d_1)\n",
    "\\end{equation*}"
   ]
  },
  {
   "cell_type": "code",
   "execution_count": 24,
   "id": "b5ccabab",
   "metadata": {},
   "outputs": [],
   "source": [
    "def AssetON_DD_Call (r, S0, K, T, sigma, beta) :\n",
    "    discount_factor = np.exp(-r*T)\n",
    "    F = S0 * np.exp(r*T)\n",
    "    d1 = (np.log((F / beta) / (K + ((1-beta) / beta) *F))  + (1/2 * T * sigma **2 * beta **2)) / (sigma * beta * np.sqrt(T))\n",
    "    price = discount_factor * (F / beta) * (norm.cdf(d1, loc = 0, scale = 1))\n",
    "    return price"
   ]
  },
  {
   "cell_type": "code",
   "execution_count": 25,
   "id": "ff74d71e",
   "metadata": {},
   "outputs": [],
   "source": [
    "def AssetON_DD_Put (r, S0, K, T, sigma, beta) :\n",
    "    discount_factor = np.exp(-r*T)\n",
    "    F = S0 * np.exp(r*T)\n",
    "    d1 = (np.log((F / beta) / (K + ((1-beta) / beta) *F))  + (1/2 * T * sigma **2 * beta **2)) / (sigma * beta * np.sqrt(T))\n",
    "    price = discount_factor * (F / beta) * (norm.cdf(-d1, loc = 0, scale = 1))\n",
    "    return price"
   ]
  },
  {
   "cell_type": "markdown",
   "id": "55e2185b",
   "metadata": {},
   "source": [
    "## Extra: Put-Call Parity\n",
    "We employ the Put-Call Parity to validate the formula"
   ]
  },
  {
   "cell_type": "code",
   "execution_count": 26,
   "id": "42cc5263",
   "metadata": {},
   "outputs": [],
   "source": [
    "S0 = 85 # Current Price\n",
    "K = 85 # ATM Strike\n",
    "sigma = 0.40 # Annualized Volatility\n",
    "r = 0.05 # Interest Rate\n",
    "T =  0.2 #Days Remaining (Annualized)\n",
    "Cash = 50\n",
    "beta = 0.30"
   ]
  },
  {
   "cell_type": "markdown",
   "id": "256c02f6",
   "metadata": {},
   "source": [
    "### Black - Scholes Model"
   ]
  },
  {
   "cell_type": "code",
   "execution_count": 27,
   "id": "f4564117",
   "metadata": {},
   "outputs": [
    {
     "name": "stdout",
     "output_type": "stream",
     "text": [
      "True\n"
     ]
    }
   ],
   "source": [
    "# Vanilla Option\n",
    "print(round(BS_Call(r, S0, K, T, sigma) + K* np.exp(-r*T)) == round(BS_Call(r, S0, K, T, sigma) + K* np.exp(-r*T)))"
   ]
  },
  {
   "cell_type": "markdown",
   "id": "4a6769e8",
   "metadata": {},
   "source": [
    "### Bachelier Model"
   ]
  },
  {
   "cell_type": "code",
   "execution_count": 33,
   "id": "46046c0e",
   "metadata": {
    "scrolled": true
   },
   "outputs": [],
   "source": [
    "# Vanilla Option\n",
    "#print(round(Bachelier_Call(r, S0, K, T, sigma) + K* np.exp(-r*T)) == round(Bachelier_Put(r, S0, K, T, sigma) + S0))"
   ]
  },
  {
   "cell_type": "markdown",
   "id": "ef733e29",
   "metadata": {},
   "source": [
    "### Black76 Model"
   ]
  },
  {
   "cell_type": "code",
   "execution_count": 29,
   "id": "c3cb6206",
   "metadata": {},
   "outputs": [
    {
     "name": "stdout",
     "output_type": "stream",
     "text": [
      "True\n"
     ]
    }
   ],
   "source": [
    "# Vanilla Option\n",
    "print(round(black76_Call(r, S0, K, T, sigma) + K* np.exp(-r*T)) == round(black76_Put(r, S0, K, T, sigma) + S0))"
   ]
  },
  {
   "cell_type": "markdown",
   "id": "15ecb8fb",
   "metadata": {},
   "source": [
    "### Displaced-Diffusion Model"
   ]
  },
  {
   "cell_type": "code",
   "execution_count": 30,
   "id": "2f42b117",
   "metadata": {},
   "outputs": [
    {
     "name": "stdout",
     "output_type": "stream",
     "text": [
      "True\n"
     ]
    }
   ],
   "source": [
    "# Vanilla Option\n",
    "print(round(DD_Call(r, S0, K, T, sigma, beta) + K* np.exp(-r*T)) == round(DD_Put(r, S0, K, T, sigma, beta) + S0))"
   ]
  }
 ],
 "metadata": {
  "kernelspec": {
   "display_name": "Python 3 (ipykernel)",
   "language": "python",
   "name": "python3"
  },
  "language_info": {
   "codemirror_mode": {
    "name": "ipython",
    "version": 3
   },
   "file_extension": ".py",
   "mimetype": "text/x-python",
   "name": "python",
   "nbconvert_exporter": "python",
   "pygments_lexer": "ipython3",
   "version": "3.11.4"
  }
 },
 "nbformat": 4,
 "nbformat_minor": 5
}
