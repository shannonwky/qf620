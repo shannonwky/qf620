{
 "cells": [
  {
   "cell_type": "markdown",
   "id": "cee32bfa",
   "metadata": {},
   "source": [
    "# Part 3: Static Replication"
   ]
  },
  {
   "cell_type": "code",
   "execution_count": 31,
   "id": "94a7811e",
   "metadata": {},
   "outputs": [],
   "source": [
    "import numpy as np\n",
    "from scipy.stats import norm\n",
    "import pandas as pd\n",
    "import warnings\n",
    "warnings.filterwarnings(\"ignore\")\n",
    "from scipy.stats import norm\n",
    "from scipy.optimize import brentq\n",
    "from scipy.integrate import quad"
   ]
  },
  {
   "cell_type": "markdown",
   "id": "70514ea4",
   "metadata": {},
   "source": [
    " # <a id = \"top\">Contents</a>"
   ]
  },
  {
   "cell_type": "markdown",
   "id": "cd26478b",
   "metadata": {},
   "source": [
    "# [0. Preparing Work](#p1)\n",
    "# [1. Payoff Function](#p2)\n",
    "# [2. “Model-free” Integrated Variance](#p3)"
   ]
  },
  {
   "cell_type": "markdown",
   "id": "342d39dc",
   "metadata": {},
   "source": [
    "#  <a id = \"p1\"> 0.<font color = \"green\"> Preparing Work [(back to contents)](#top)"
   ]
  },
  {
   "cell_type": "markdown",
   "id": "42ec3167",
   "metadata": {},
   "source": [
    "### Step 1: Import data"
   ]
  },
  {
   "cell_type": "code",
   "execution_count": 3,
   "id": "b8780225",
   "metadata": {},
   "outputs": [],
   "source": [
    "discount = pd.read_csv('zero_rates_20201201.csv')\n",
    "spx_df2 = pd.read_csv('spx_df2.csv')\n",
    "spy_df2 = pd.read_csv('spy_df2y.csv')\n",
    "S0_spx = 3662.45\n",
    "S0_spy = 366.02\n",
    "T2 = 0.1232876712328767\n",
    "r2 = 0.0020510755555555554\n",
    "\n",
    "# Results obtain from Part 2\n",
    "alpha_spx = 1.81650\n",
    "beta_spx = 0.7\n",
    "rho_spx = -0.40430\n",
    "nu_spx = 2.79016\n",
    "\n",
    "alpha_spy = 0.90813\n",
    "beta_spy = 0.7\n",
    "rho_spy = -0.48878\n",
    "nu_spy = 2.72852"
   ]
  },
  {
   "cell_type": "markdown",
   "id": "9596b9de",
   "metadata": {},
   "source": [
    "### Step 2: Find ATM data"
   ]
  },
  {
   "cell_type": "markdown",
   "id": "3e048dda",
   "metadata": {},
   "source": [
    "#### SPX"
   ]
  },
  {
   "cell_type": "code",
   "execution_count": 4,
   "id": "118b3a16",
   "metadata": {},
   "outputs": [],
   "source": [
    "spx_call = spx_df2\n",
    "spx_call = spx_df2[spx_df2['cp_flag'] == 'C']\n",
    "spx_call = spx_call[spx_call['strike_price']*0.001 >= S0_spx]"
   ]
  },
  {
   "cell_type": "code",
   "execution_count": 5,
   "id": "20add3d1",
   "metadata": {},
   "outputs": [],
   "source": [
    "spx_put = spx_df2\n",
    "spx_put = spx_df2[spx_df2['cp_flag'] == 'P']\n",
    "spx_put = spx_put[spx_put['strike_price']*0.001 <= S0_spx]"
   ]
  },
  {
   "cell_type": "code",
   "execution_count": 6,
   "id": "0624726c",
   "metadata": {},
   "outputs": [],
   "source": [
    "spx = pd.concat([spx_call, spx_put])\n",
    "spx = spx.sort_values(by = 'vols_bs', ascending = False)"
   ]
  },
  {
   "cell_type": "markdown",
   "id": "d0b0c2bf",
   "metadata": {},
   "source": [
    "#### SPY"
   ]
  },
  {
   "cell_type": "code",
   "execution_count": 7,
   "id": "b4b054b3",
   "metadata": {},
   "outputs": [],
   "source": [
    "spy_call = spy_df2\n",
    "spy_call = spy_df2[spy_df2['cp_flag'] == 'C']\n",
    "spy_call = spy_call[spy_call['strike'] >= S0_spy]"
   ]
  },
  {
   "cell_type": "code",
   "execution_count": 8,
   "id": "74cfb827",
   "metadata": {},
   "outputs": [],
   "source": [
    "spy_put = spy_df2\n",
    "spy_put = spy_df2[spy_df2['cp_flag'] == 'P']\n",
    "spy_put = spy_put[spy_put['strike'] <= S0_spy]"
   ]
  },
  {
   "cell_type": "code",
   "execution_count": 9,
   "id": "7d3d94ce",
   "metadata": {},
   "outputs": [],
   "source": [
    "spy = pd.concat([spy_call, spy_put])\n",
    "spy = spy.sort_values(by = 'vols_bs', ascending = False)"
   ]
  },
  {
   "cell_type": "markdown",
   "id": "bc781120",
   "metadata": {},
   "source": [
    "### Step 3: Introduce Model and Other Defined Functions"
   ]
  },
  {
   "cell_type": "markdown",
   "id": "ceeb791d",
   "metadata": {},
   "source": [
    "#### Black Scholes Model"
   ]
  },
  {
   "cell_type": "code",
   "execution_count": 19,
   "id": "85e0f6e5",
   "metadata": {},
   "outputs": [],
   "source": [
    "# Call Option\n",
    "def BS_Call(r, S0, K, T, sigma):\n",
    "    discount_factor = np.exp(-r*T)\n",
    "    d1 = (np.log(S0/K) + (r + (sigma**2)/2)*T) /(sigma*np.sqrt(T))  \n",
    "    d2 = d1 - sigma*np.sqrt(T)\n",
    "    price = S0 * norm.cdf(d1, loc = 0, scale = 1) - K * discount_factor * norm.cdf(d2, loc = 0, scale = 1)\n",
    "    return price\n",
    "\n",
    "# Put Option\n",
    "def BS_Put(r, S0, K, T, sigma):\n",
    "    discount_factor = np.exp(-r*T)\n",
    "    d1 = (np.log(S0/K) + (r + (sigma**2)/2)*T) /(sigma*np.sqrt(T))  \n",
    "    d2 = d1 - sigma*np.sqrt(T)\n",
    "    price = K * discount_factor * norm.cdf(-d2, loc = 0, scale = 1) - S0 * norm.cdf(-d1, loc = 0, scale = 1)\n",
    "    return price\n",
    "\n",
    "# “Model-free” integrated variance\n",
    "def BS_callintegrand(r, S, K, T, sigma):\n",
    "    price = BS_Call(r, S, K, T, sigma) / K**2\n",
    "    return price\n",
    "\n",
    "def BS_putintegrand(r, S, K, T, sigma):\n",
    "    price = BS_Put(r, S, K, T, sigma) / K**2\n",
    "    return price"
   ]
  },
  {
   "cell_type": "markdown",
   "id": "80001cf5",
   "metadata": {},
   "source": [
    "#### Bachelier Model"
   ]
  },
  {
   "cell_type": "code",
   "execution_count": 36,
   "id": "cf3d5cc4",
   "metadata": {},
   "outputs": [
    {
     "data": {
      "text/plain": [
       "97.57893290325879"
      ]
     },
     "execution_count": 36,
     "metadata": {},
     "output_type": "execute_result"
    }
   ],
   "source": [
    "Bachelier_Call(r2, S0_spx, 3660, T2, 688)"
   ]
  },
  {
   "cell_type": "code",
   "execution_count": 35,
   "id": "e45c8aa5",
   "metadata": {},
   "outputs": [
    {
     "data": {
      "text/plain": [
       "98.54574816202489"
      ]
     },
     "execution_count": 35,
     "metadata": {},
     "output_type": "execute_result"
    }
   ],
   "source": [
    "BS_Call(r2, S0_spx, 3660, T2, 0.1889)"
   ]
  },
  {
   "cell_type": "code",
   "execution_count": 34,
   "id": "e59bcf85",
   "metadata": {
    "scrolled": true
   },
   "outputs": [
    {
     "data": {
      "text/html": [
       "<div>\n",
       "<style scoped>\n",
       "    .dataframe tbody tr th:only-of-type {\n",
       "        vertical-align: middle;\n",
       "    }\n",
       "\n",
       "    .dataframe tbody tr th {\n",
       "        vertical-align: top;\n",
       "    }\n",
       "\n",
       "    .dataframe thead th {\n",
       "        text-align: right;\n",
       "    }\n",
       "</style>\n",
       "<table border=\"1\" class=\"dataframe\">\n",
       "  <thead>\n",
       "    <tr style=\"text-align: right;\">\n",
       "      <th></th>\n",
       "      <th>date</th>\n",
       "      <th>exdate</th>\n",
       "      <th>cp_flag</th>\n",
       "      <th>strike_price</th>\n",
       "      <th>best_bid</th>\n",
       "      <th>best_offer</th>\n",
       "      <th>exercise_style</th>\n",
       "      <th>mid_price</th>\n",
       "      <th>strike</th>\n",
       "      <th>payoff</th>\n",
       "      <th>vols_bs</th>\n",
       "      <th>Difference</th>\n",
       "    </tr>\n",
       "  </thead>\n",
       "  <tbody>\n",
       "    <tr>\n",
       "      <th>553</th>\n",
       "      <td>20201201</td>\n",
       "      <td>20210115</td>\n",
       "      <td>P</td>\n",
       "      <td>3660000</td>\n",
       "      <td>94.8</td>\n",
       "      <td>95.5</td>\n",
       "      <td>E</td>\n",
       "      <td>95.15</td>\n",
       "      <td>3660.0</td>\n",
       "      <td>put</td>\n",
       "      <td>0.188860</td>\n",
       "      <td>2.45</td>\n",
       "    </tr>\n",
       "    <tr>\n",
       "      <th>185</th>\n",
       "      <td>20201201</td>\n",
       "      <td>20210115</td>\n",
       "      <td>C</td>\n",
       "      <td>3665000</td>\n",
       "      <td>91.5</td>\n",
       "      <td>92.4</td>\n",
       "      <td>E</td>\n",
       "      <td>91.95</td>\n",
       "      <td>3665.0</td>\n",
       "      <td>call</td>\n",
       "      <td>0.180798</td>\n",
       "      <td>2.55</td>\n",
       "    </tr>\n",
       "    <tr>\n",
       "      <th>552</th>\n",
       "      <td>20201201</td>\n",
       "      <td>20210115</td>\n",
       "      <td>P</td>\n",
       "      <td>3655000</td>\n",
       "      <td>92.8</td>\n",
       "      <td>93.5</td>\n",
       "      <td>E</td>\n",
       "      <td>93.15</td>\n",
       "      <td>3655.0</td>\n",
       "      <td>put</td>\n",
       "      <td>0.189871</td>\n",
       "      <td>7.45</td>\n",
       "    </tr>\n",
       "    <tr>\n",
       "      <th>186</th>\n",
       "      <td>20201201</td>\n",
       "      <td>20210115</td>\n",
       "      <td>C</td>\n",
       "      <td>3670000</td>\n",
       "      <td>88.6</td>\n",
       "      <td>89.5</td>\n",
       "      <td>E</td>\n",
       "      <td>89.05</td>\n",
       "      <td>3670.0</td>\n",
       "      <td>call</td>\n",
       "      <td>0.179825</td>\n",
       "      <td>7.55</td>\n",
       "    </tr>\n",
       "    <tr>\n",
       "      <th>551</th>\n",
       "      <td>20201201</td>\n",
       "      <td>20210115</td>\n",
       "      <td>P</td>\n",
       "      <td>3650000</td>\n",
       "      <td>90.8</td>\n",
       "      <td>91.6</td>\n",
       "      <td>E</td>\n",
       "      <td>91.20</td>\n",
       "      <td>3650.0</td>\n",
       "      <td>put</td>\n",
       "      <td>0.190902</td>\n",
       "      <td>12.45</td>\n",
       "    </tr>\n",
       "    <tr>\n",
       "      <th>...</th>\n",
       "      <td>...</td>\n",
       "      <td>...</td>\n",
       "      <td>...</td>\n",
       "      <td>...</td>\n",
       "      <td>...</td>\n",
       "      <td>...</td>\n",
       "      <td>...</td>\n",
       "      <td>...</td>\n",
       "      <td>...</td>\n",
       "      <td>...</td>\n",
       "      <td>...</td>\n",
       "      <td>...</td>\n",
       "    </tr>\n",
       "    <tr>\n",
       "      <th>270</th>\n",
       "      <td>20201201</td>\n",
       "      <td>20210115</td>\n",
       "      <td>P</td>\n",
       "      <td>500000</td>\n",
       "      <td>0.0</td>\n",
       "      <td>0.1</td>\n",
       "      <td>E</td>\n",
       "      <td>0.05</td>\n",
       "      <td>500.0</td>\n",
       "      <td>put</td>\n",
       "      <td>1.636102</td>\n",
       "      <td>3162.45</td>\n",
       "    </tr>\n",
       "    <tr>\n",
       "      <th>269</th>\n",
       "      <td>20201201</td>\n",
       "      <td>20210115</td>\n",
       "      <td>P</td>\n",
       "      <td>400000</td>\n",
       "      <td>0.0</td>\n",
       "      <td>0.1</td>\n",
       "      <td>E</td>\n",
       "      <td>0.05</td>\n",
       "      <td>400.0</td>\n",
       "      <td>put</td>\n",
       "      <td>1.821174</td>\n",
       "      <td>3262.45</td>\n",
       "    </tr>\n",
       "    <tr>\n",
       "      <th>268</th>\n",
       "      <td>20201201</td>\n",
       "      <td>20210115</td>\n",
       "      <td>P</td>\n",
       "      <td>300000</td>\n",
       "      <td>0.0</td>\n",
       "      <td>0.1</td>\n",
       "      <td>E</td>\n",
       "      <td>0.05</td>\n",
       "      <td>300.0</td>\n",
       "      <td>put</td>\n",
       "      <td>2.062602</td>\n",
       "      <td>3362.45</td>\n",
       "    </tr>\n",
       "    <tr>\n",
       "      <th>267</th>\n",
       "      <td>20201201</td>\n",
       "      <td>20210115</td>\n",
       "      <td>P</td>\n",
       "      <td>200000</td>\n",
       "      <td>0.0</td>\n",
       "      <td>0.1</td>\n",
       "      <td>E</td>\n",
       "      <td>0.05</td>\n",
       "      <td>200.0</td>\n",
       "      <td>put</td>\n",
       "      <td>2.408988</td>\n",
       "      <td>3462.45</td>\n",
       "    </tr>\n",
       "    <tr>\n",
       "      <th>266</th>\n",
       "      <td>20201201</td>\n",
       "      <td>20210115</td>\n",
       "      <td>P</td>\n",
       "      <td>100000</td>\n",
       "      <td>0.0</td>\n",
       "      <td>0.1</td>\n",
       "      <td>E</td>\n",
       "      <td>0.05</td>\n",
       "      <td>100.0</td>\n",
       "      <td>put</td>\n",
       "      <td>3.020479</td>\n",
       "      <td>3562.45</td>\n",
       "    </tr>\n",
       "  </tbody>\n",
       "</table>\n",
       "<p>369 rows × 12 columns</p>\n",
       "</div>"
      ],
      "text/plain": [
       "         date    exdate cp_flag  strike_price  best_bid  best_offer  \\\n",
       "553  20201201  20210115       P       3660000      94.8        95.5   \n",
       "185  20201201  20210115       C       3665000      91.5        92.4   \n",
       "552  20201201  20210115       P       3655000      92.8        93.5   \n",
       "186  20201201  20210115       C       3670000      88.6        89.5   \n",
       "551  20201201  20210115       P       3650000      90.8        91.6   \n",
       "..        ...       ...     ...           ...       ...         ...   \n",
       "270  20201201  20210115       P        500000       0.0         0.1   \n",
       "269  20201201  20210115       P        400000       0.0         0.1   \n",
       "268  20201201  20210115       P        300000       0.0         0.1   \n",
       "267  20201201  20210115       P        200000       0.0         0.1   \n",
       "266  20201201  20210115       P        100000       0.0         0.1   \n",
       "\n",
       "    exercise_style  mid_price  strike payoff   vols_bs  Difference  \n",
       "553              E      95.15  3660.0    put  0.188860        2.45  \n",
       "185              E      91.95  3665.0   call  0.180798        2.55  \n",
       "552              E      93.15  3655.0    put  0.189871        7.45  \n",
       "186              E      89.05  3670.0   call  0.179825        7.55  \n",
       "551              E      91.20  3650.0    put  0.190902       12.45  \n",
       "..             ...        ...     ...    ...       ...         ...  \n",
       "270              E       0.05   500.0    put  1.636102     3162.45  \n",
       "269              E       0.05   400.0    put  1.821174     3262.45  \n",
       "268              E       0.05   300.0    put  2.062602     3362.45  \n",
       "267              E       0.05   200.0    put  2.408988     3462.45  \n",
       "266              E       0.05   100.0    put  3.020479     3562.45  \n",
       "\n",
       "[369 rows x 12 columns]"
      ]
     },
     "execution_count": 34,
     "metadata": {},
     "output_type": "execute_result"
    }
   ],
   "source": [
    "spx"
   ]
  },
  {
   "cell_type": "code",
   "execution_count": 20,
   "id": "51375392",
   "metadata": {},
   "outputs": [],
   "source": [
    "# Call Option\n",
    "def Bachelier_Call(r, S0, K, T, sigma):\n",
    "    discount_factor = np.exp(-r*T)\n",
    "    c = (S0-K) / (sigma*np.sqrt(T))\n",
    "    price = discount_factor * ((S0-K)*norm.cdf(c, loc = 0, scale = 1) + sigma * np.sqrt(T)*norm.pdf(c))\n",
    "    return price\n",
    "\n",
    "# Put Option\n",
    "def Bachelier_Put(r, S0, K, T, sigma):\n",
    "    discount_factor = np.exp(-r*T)\n",
    "    c = (S0 - K) / (sigma*np.sqrt(T))\n",
    "    price = discount_factor * ((K-S0)*norm.cdf(-c, loc = 0, scale = 1) + sigma * np.sqrt(T)*norm.pdf(-c))\n",
    "    return price\n",
    "\n",
    "# “Model-free” integrated variance\n",
    "def bachelier_callintegrand(r, S, K, T, sigma):\n",
    "    price = Bachelier_Call(r, S, K, T, sigma) / K**2\n",
    "    return price\n",
    "\n",
    "def bachelier_putintegrand(r, S, K, T, sigma):\n",
    "    price = Bachelier_Put(r, S, K, T, sigma) / K**2\n",
    "    return price"
   ]
  },
  {
   "cell_type": "markdown",
   "id": "a8c01bb2",
   "metadata": {},
   "source": [
    "#### SABR Model"
   ]
  },
  {
   "cell_type": "code",
   "execution_count": 21,
   "id": "d97404e3",
   "metadata": {},
   "outputs": [],
   "source": [
    "# Implied Volatility\n",
    "def SABR(F, K, T, alpha, beta, rho, nu):\n",
    "    X = K\n",
    "    # if K is at-the-money-forward\n",
    "    if abs(F - K) < 1e-12:\n",
    "        numer1 = (((1 - beta)**2)/24)*alpha*alpha/(F**(2 - 2*beta))\n",
    "        numer2 = 0.25*rho*beta*nu*alpha/(F**(1 - beta))\n",
    "        numer3 = ((2 - 3*rho*rho)/24)*nu*nu\n",
    "        VolAtm = alpha*(1 + (numer1 + numer2 + numer3)*T)/(F**(1-beta))\n",
    "        sabrsigma = VolAtm\n",
    "    else:\n",
    "        z = (nu/alpha)*((F*X)**(0.5*(1-beta)))*np.log(F/X)\n",
    "        zhi = np.log((((1 - 2*rho*z + z*z)**0.5) + z - rho)/(1 - rho))\n",
    "        numer1 = (((1 - beta)**2)/24)*((alpha*alpha)/((F*X)**(1 - beta)))\n",
    "        numer2 = 0.25*rho*beta*nu*alpha/((F*X)**((1 - beta)/2))\n",
    "        numer3 = ((2 - 3*rho*rho)/24)*nu*nu\n",
    "        numer = alpha*(1 + (numer1 + numer2 + numer3)*T)*z\n",
    "        denom1 = ((1 - beta)**2/24)*(np.log(F/X))**2\n",
    "        denom2 = (((1 - beta)**4)/1920)*((np.log(F/X))**4)\n",
    "        denom = ((F*X)**((1 - beta)/2))*(1 + denom1 + denom2)*zhi\n",
    "        sabrsigma = numer/denom\n",
    "\n",
    "    return sabrsigma\n",
    "\n",
    "# Call Option\n",
    "def SABRCall(r, S, K, T, alpha, beta, rho, nu):\n",
    "    sabr_vol = SABR(S*np.exp(r*T), K, T, alpha, beta, rho, nu)\n",
    "    return BS_Call(r, S, K, T, sabr_vol)\n",
    "\n",
    "# Put Option\n",
    "def SABRPut(r, S, K, T, alpha, beta, rho, nu):\n",
    "    sabr_vol = SABR(S*np.exp(r*T), K, T, alpha, beta, rho, nu)\n",
    "    return BS_Put(r, S, K, T, sabr_vol)\n",
    "\n",
    "# “Model-free” integrated variance\n",
    "def sabrcallintegrand(r, S, K, T, alpha, beta, rho, nu):\n",
    "    price = SABRCall(r, S, K, T, alpha, beta, rho, nu) / K**2\n",
    "    return price\n",
    "\n",
    "def sabrputintegrand(r, S, K, T, alpha, beta, rho, nu):\n",
    "    price = SABRPut(r, S, K, T, alpha, beta, rho, nu) / K**2\n",
    "    return price"
   ]
  },
  {
   "cell_type": "markdown",
   "id": "e9d0a5ad",
   "metadata": {},
   "source": [
    "### Step 4: Obtain Volatility"
   ]
  },
  {
   "cell_type": "markdown",
   "id": "ecd1c0b7",
   "metadata": {},
   "source": [
    "> First we find the smallest differences between strike price and S0."
   ]
  },
  {
   "cell_type": "code",
   "execution_count": 11,
   "id": "af8650bd",
   "metadata": {},
   "outputs": [],
   "source": [
    "spx['Difference'] = abs(spx['strike'] - S0_spx)\n",
    "spx = spx.sort_values(by = 'Difference')"
   ]
  },
  {
   "cell_type": "code",
   "execution_count": 12,
   "id": "f0955290",
   "metadata": {},
   "outputs": [],
   "source": [
    "spy['Difference'] = abs(spy['strike'] - S0_spy)\n",
    "spy = spy.sort_values(by = 'Difference')"
   ]
  },
  {
   "cell_type": "markdown",
   "id": "2f2c5434",
   "metadata": {},
   "source": [
    ">Then we can obtain the volatility of Black Scholes Model."
   ]
  },
  {
   "cell_type": "code",
   "execution_count": 13,
   "id": "11d62a80",
   "metadata": {},
   "outputs": [
    {
     "name": "stdout",
     "output_type": "stream",
     "text": [
      "Sigma_LN_spx = 0.1889, Sigma_LN_spx = 0.1978\n"
     ]
    }
   ],
   "source": [
    "Sigma_LN_spx = spx.iloc[0]['vols_bs'] \n",
    "Sigma_LN_spy = spy.iloc[0]['vols_bs'] \n",
    "print(f'Sigma_LN_spx = {Sigma_LN_spx:.4f}, Sigma_LN_spx = {Sigma_LN_spy:.4f}')"
   ]
  },
  {
   "cell_type": "markdown",
   "id": "51c15afc",
   "metadata": {},
   "source": [
    "> After that, we obtain the volatility of Bachelier Model.\\\n",
    "Since ATM the volatility of Black Scholes and Bachelier are the same, then we just let Sigma_N_x = x.iloc[0]['vols_bachelier']."
   ]
  },
  {
   "cell_type": "code",
   "execution_count": 14,
   "id": "bde617e5",
   "metadata": {},
   "outputs": [
    {
     "name": "stdout",
     "output_type": "stream",
     "text": [
      "Sigma_N_spx = 0.1889, Sigma_N_spy = 0.1978\n"
     ]
    }
   ],
   "source": [
    "Sigma_N_spx = spx.iloc[0]['vols_bs'] \n",
    "Sigma_N_spy = spy.iloc[0]['vols_bs'] \n",
    "print(f'Sigma_N_spx = {Sigma_N_spx:.4f}, Sigma_N_spy = {Sigma_N_spy:.4f}')"
   ]
  },
  {
   "cell_type": "code",
   "execution_count": 15,
   "id": "4c8c5d34",
   "metadata": {},
   "outputs": [
    {
     "data": {
      "text/html": [
       "<div>\n",
       "<style scoped>\n",
       "    .dataframe tbody tr th:only-of-type {\n",
       "        vertical-align: middle;\n",
       "    }\n",
       "\n",
       "    .dataframe tbody tr th {\n",
       "        vertical-align: top;\n",
       "    }\n",
       "\n",
       "    .dataframe thead th {\n",
       "        text-align: right;\n",
       "    }\n",
       "</style>\n",
       "<table border=\"1\" class=\"dataframe\">\n",
       "  <thead>\n",
       "    <tr style=\"text-align: right;\">\n",
       "      <th></th>\n",
       "      <th>SPX</th>\n",
       "      <th>SPY</th>\n",
       "    </tr>\n",
       "  </thead>\n",
       "  <tbody>\n",
       "    <tr>\n",
       "      <th>Sigma_LN</th>\n",
       "      <td>0.18886</td>\n",
       "      <td>0.197767</td>\n",
       "    </tr>\n",
       "    <tr>\n",
       "      <th>Sigma_N</th>\n",
       "      <td>0.18886</td>\n",
       "      <td>0.197767</td>\n",
       "    </tr>\n",
       "  </tbody>\n",
       "</table>\n",
       "</div>"
      ],
      "text/plain": [
       "              SPX       SPY\n",
       "Sigma_LN  0.18886  0.197767\n",
       "Sigma_N   0.18886  0.197767"
      ]
     },
     "execution_count": 15,
     "metadata": {},
     "output_type": "execute_result"
    }
   ],
   "source": [
    "sigma = {'Sigma_LN': [Sigma_LN_spx, Sigma_LN_spy],\n",
    "        'Sigma_N': [Sigma_N_spx, Sigma_N_spy]}\n",
    "\n",
    "sigma = pd.DataFrame(sigma, index=['SPX', 'SPY'])\n",
    "sigma = sigma.T\n",
    "sigma"
   ]
  },
  {
   "cell_type": "markdown",
   "id": "7383410e",
   "metadata": {},
   "source": [
    "### Finally, we can start to do the questions now."
   ]
  },
  {
   "cell_type": "markdown",
   "id": "bda534e8",
   "metadata": {},
   "source": [
    "#  <a id = \"p2\"> 1.<font color = \"green\">Payoff Function [(back to contents)](#top)"
   ]
  },
  {
   "cell_type": "markdown",
   "id": "d786380b",
   "metadata": {},
   "source": [
    "Given payoff function:\n",
    "$$\n",
    "h(S_T) = S^{1/3}_T + 1.5 \\cdot \\log(S_T) + 10.0\n",
    "$$\n",
    "\n",
    "Then, first derivative:\n",
    "$$\n",
    "h'(S_T) = \\frac{1}{3} \\cdot S^{-\\frac{2}{3}}_T + \\frac{3}{2} \\cdot S^{-1}_T\n",
    "$$\n",
    "\n",
    "Second derivative:\n",
    "$$\n",
    "h''(S_T) = -\\frac{2}{9} \\cdot S^{-\\frac{5}{3}}_T - \\frac{3}{2} \\cdot S^{-2}_T\n",
    "$$"
   ]
  },
  {
   "cell_type": "markdown",
   "id": "345770d1",
   "metadata": {},
   "source": [
    "> Define a function."
   ]
  },
  {
   "cell_type": "code",
   "execution_count": 16,
   "id": "071d1072",
   "metadata": {},
   "outputs": [],
   "source": [
    "def h(K):\n",
    "    if abs(K) < 1e-12:\n",
    "        K = 1e-12\n",
    "    return K**(1/3) + 1.5 * np.log(K) + 10\n",
    "\n",
    "def h_dif2(K):\n",
    "    if abs(K) < 1e-12:\n",
    "        K = 1e-12\n",
    "    return -2/9 * K**(-5/3) - 3/2 * K**(-2)"
   ]
  },
  {
   "cell_type": "markdown",
   "id": "c5282147",
   "metadata": {},
   "source": [
    "> Obtain forward price."
   ]
  },
  {
   "cell_type": "code",
   "execution_count": 17,
   "id": "cf055712",
   "metadata": {},
   "outputs": [],
   "source": [
    "F_spx = S0_spx * np.exp(r2 * T2)\n",
    "F_spy = S0_spy * np.exp(r2 * T2)"
   ]
  },
  {
   "cell_type": "markdown",
   "id": "5103143c",
   "metadata": {},
   "source": [
    "Note that:\n",
    "\\begin{equation*}\n",
    "    \\begin{split}\n",
    "      V_0 = e^{-rT}h(F) + \\underbrace{\\int_0^{F}h''(K)P(K)\\;dK}_{\\mbox{put integral}} + \\underbrace{\\int_{F}^{\\infty}h''(K)C(K)\\;dK}_{\\mbox{call integral}}\\\\\n",
    "    \\end{split}\n",
    "\\end{equation*}\n"
   ]
  },
  {
   "cell_type": "markdown",
   "id": "940d6190",
   "metadata": {},
   "source": [
    "> Black Scholes Model."
   ]
  },
  {
   "cell_type": "code",
   "execution_count": 22,
   "id": "b5d43e0d",
   "metadata": {},
   "outputs": [
    {
     "name": "stdout",
     "output_type": "stream",
     "text": [
      "SPX_BS = 37.7153, SPY_BS = 26.0017\n"
     ]
    }
   ],
   "source": [
    "SPX_BS = np.exp(-r2*T2) * h(F_spx) + h_dif2(F_spx) * BS_callintegrand(r2, S0_spx, F_spx, T2, Sigma_LN_spx) + h_dif2(F_spx) * BS_putintegrand(r2, S0_spx, F_spx, T2, Sigma_LN_spx)\n",
    "SPY_BS = np.exp(-r2*T2) * h(F_spy) + h_dif2(F_spy) * BS_callintegrand(r2, S0_spy, F_spy, T2, Sigma_LN_spy) + h_dif2(F_spy) * BS_putintegrand(r2, S0_spy, F_spy, T2, Sigma_LN_spy)\n",
    "print(f'SPX_BS = {SPX_BS:.4f}, SPY_BS = {SPY_BS:.4f}')"
   ]
  },
  {
   "cell_type": "markdown",
   "id": "b04a1c8f",
   "metadata": {},
   "source": [
    "> Bachelier Model."
   ]
  },
  {
   "cell_type": "code",
   "execution_count": 23,
   "id": "ebd83eca",
   "metadata": {},
   "outputs": [
    {
     "name": "stdout",
     "output_type": "stream",
     "text": [
      "SPX_Bachelier = 37.7153, SPY_Bachelier = 26.0017\n"
     ]
    }
   ],
   "source": [
    "SPX_Bachelier = np.exp(-r2*T2) * h(F_spx) + h_dif2(F_spx) * bachelier_callintegrand(r2, S0_spx, F_spx, T2, Sigma_N_spx) + h_dif2(F_spx) * bachelier_putintegrand(r2, S0_spx, F_spx, T2, Sigma_N_spx)\n",
    "SPY_Bachelier = np.exp(-r2*T2) * h(F_spy) + h_dif2(F_spy) * bachelier_callintegrand(r2, S0_spy, F_spy, T2, Sigma_LN_spy) + h_dif2(F_spy) * bachelier_putintegrand(r2, S0_spy, F_spy, T2, Sigma_N_spy)\n",
    "print(f'SPX_Bachelier = {SPX_Bachelier:.4f}, SPY_Bachelier = {SPY_Bachelier:.4f}')"
   ]
  },
  {
   "cell_type": "markdown",
   "id": "14c1108d",
   "metadata": {},
   "source": [
    ">SABR Model."
   ]
  },
  {
   "cell_type": "code",
   "execution_count": 24,
   "id": "06de8956",
   "metadata": {},
   "outputs": [
    {
     "name": "stdout",
     "output_type": "stream",
     "text": [
      "SPX_sabr = 37.7153, SPY_sabr = 26.0017\n"
     ]
    }
   ],
   "source": [
    "SPX_sabr = np.exp(-r2*T2) * h(F_spx) + h_dif2(F_spx) * sabrcallintegrand(r2, S0_spx, F_spx, T2, alpha_spx, beta_spx, rho_spx, nu_spx) + h_dif2(F_spx) * sabrputintegrand(r2, S0_spx, F_spx, T2, alpha_spx, beta_spx, rho_spx, nu_spx)\n",
    "SPY_sabr = np.exp(-r2*T2) * h(F_spy) + h_dif2(F_spy) * sabrcallintegrand(r2, S0_spy, F_spy, T2, alpha_spy, beta_spy, rho_spy, nu_spy) + h_dif2(F_spy) * sabrputintegrand(r2, S0_spy, F_spy, T2, alpha_spy, beta_spy, rho_spy, nu_spy)\n",
    "print(f'SPX_sabr = {SPX_sabr:.4f}, SPY_sabr = {SPY_sabr:.4f}')"
   ]
  },
  {
   "cell_type": "markdown",
   "id": "59021d8a",
   "metadata": {},
   "source": [
    "> Summary Table."
   ]
  },
  {
   "cell_type": "code",
   "execution_count": 25,
   "id": "003aea95",
   "metadata": {},
   "outputs": [
    {
     "data": {
      "text/html": [
       "<div>\n",
       "<style scoped>\n",
       "    .dataframe tbody tr th:only-of-type {\n",
       "        vertical-align: middle;\n",
       "    }\n",
       "\n",
       "    .dataframe tbody tr th {\n",
       "        vertical-align: top;\n",
       "    }\n",
       "\n",
       "    .dataframe thead th {\n",
       "        text-align: right;\n",
       "    }\n",
       "</style>\n",
       "<table border=\"1\" class=\"dataframe\">\n",
       "  <thead>\n",
       "    <tr style=\"text-align: right;\">\n",
       "      <th></th>\n",
       "      <th>Black-Scholes</th>\n",
       "      <th>Bachelier</th>\n",
       "      <th>SABR</th>\n",
       "    </tr>\n",
       "  </thead>\n",
       "  <tbody>\n",
       "    <tr>\n",
       "      <th>SPX</th>\n",
       "      <td>37.715275</td>\n",
       "      <td>37.715275</td>\n",
       "      <td>37.715275</td>\n",
       "    </tr>\n",
       "    <tr>\n",
       "      <th>SPY</th>\n",
       "      <td>26.001659</td>\n",
       "      <td>26.001659</td>\n",
       "      <td>26.001659</td>\n",
       "    </tr>\n",
       "  </tbody>\n",
       "</table>\n",
       "</div>"
      ],
      "text/plain": [
       "     Black-Scholes  Bachelier       SABR\n",
       "SPX      37.715275  37.715275  37.715275\n",
       "SPY      26.001659  26.001659  26.001659"
      ]
     },
     "execution_count": 25,
     "metadata": {},
     "output_type": "execute_result"
    }
   ],
   "source": [
    "Summary_payoff = pd.DataFrame({'SPX' : [SPX_BS,\n",
    "                                               SPX_Bachelier,\n",
    "                                               SPX_sabr],\n",
    "                                 'SPY' : [SPY_BS,\n",
    "                                               SPY_Bachelier,\n",
    "                                               SPY_sabr]}).T\n",
    "Summary_payoff.columns = ['Black-Scholes', 'Bachelier', 'SABR']\n",
    "Summary_payoff"
   ]
  },
  {
   "cell_type": "markdown",
   "id": "b575ab3c",
   "metadata": {},
   "source": [
    "#  <a id = \"p3\"> 2.<font color = \"green\">“Model-free” Integrated Variance [(back to contents)](#top)"
   ]
  },
  {
   "cell_type": "markdown",
   "id": "ffe00480",
   "metadata": {},
   "source": [
    "$$\n",
    "\\sigma^2_{\\text{MF}} T = \\mathbb{E}\\left[\\int_{0}^{T} \\sigma^2_t \\, dt\\right]\n",
    "$$"
   ]
  },
  {
   "cell_type": "markdown",
   "id": "0c763046",
   "metadata": {},
   "source": [
    "> Black Scholes Model."
   ]
  },
  {
   "cell_type": "code",
   "execution_count": 26,
   "id": "3fd839ea",
   "metadata": {},
   "outputs": [
    {
     "name": "stdout",
     "output_type": "stream",
     "text": [
      "Variance: E_var_SPX_BS = 0.0044, E_var_SPY_BS = 0.0048\n",
      "Sigma: MF_SPX_BS = 0.1889, MF_SPY_BS = 0.1978\n"
     ]
    }
   ],
   "source": [
    "# SPX\n",
    "E_var_SPX_BS = Sigma_LN_spx **2 * T2\n",
    "MF_SPX_BS = np.sqrt(E_var_SPX_BS/T2)\n",
    "\n",
    "#SPY\n",
    "E_var_SPY_BS = Sigma_LN_spy **2 * T2\n",
    "MF_SPY_BS = np.sqrt(E_var_SPY_BS/T2)\n",
    "\n",
    "print(f'Variance: E_var_SPX_BS = {E_var_SPX_BS:.4f}, E_var_SPY_BS = {E_var_SPY_BS:.4f}')\n",
    "print(f'Sigma: MF_SPX_BS = {MF_SPX_BS:.4f}, MF_SPY_BS = {MF_SPY_BS:.4f}')"
   ]
  },
  {
   "cell_type": "markdown",
   "id": "02f16912",
   "metadata": {},
   "source": [
    "> Bachelier Model."
   ]
  },
  {
   "cell_type": "code",
   "execution_count": 27,
   "id": "089750bc",
   "metadata": {},
   "outputs": [
    {
     "name": "stdout",
     "output_type": "stream",
     "text": [
      "Variance: E_var_SPX_bachelier = 0.0044, E_var_SPY_bachelier = 0.0048\n",
      "Sigma: MF_SPX_bachelier = 0.1889, MF_SPY_bachelier = 0.1978\n"
     ]
    }
   ],
   "source": [
    "# SPX\n",
    "E_var_SPX_bachelier = Sigma_N_spx **2 * T2\n",
    "MF_SPX_bachelier = np.sqrt(E_var_SPX_BS/T2)\n",
    "\n",
    "#SPY\n",
    "E_var_SPY_bachelier = Sigma_N_spy **2 * T2\n",
    "MF_SPY_bachelier = np.sqrt(E_var_SPY_BS/T2)\n",
    "\n",
    "print(f'Variance: E_var_SPX_bachelier = {E_var_SPX_bachelier:.4f}, E_var_SPY_bachelier = {E_var_SPY_bachelier:.4f}')\n",
    "print(f'Sigma: MF_SPX_bachelier = {MF_SPX_bachelier:.4f}, MF_SPY_bachelier = {MF_SPY_bachelier:.4f}')"
   ]
  },
  {
   "cell_type": "markdown",
   "id": "3772d908",
   "metadata": {},
   "source": [
    "> SABR Model."
   ]
  },
  {
   "cell_type": "code",
   "execution_count": 28,
   "id": "a3bbf05e",
   "metadata": {},
   "outputs": [
    {
     "name": "stdout",
     "output_type": "stream",
     "text": [
      "Variance: E_var_sabr_Spx = 0.0063, E_var_sabr_Spy = 0.0060\n",
      "Sigma: MF_sabr_Spx = 0.2267, MF_sabr_Spy = 0.2209\n"
     ]
    }
   ],
   "source": [
    "#SPX\n",
    "Sabr_put_spx = quad(lambda x: sabrputintegrand(r2, S0_spx, x, T2, alpha_spx, beta_spx, rho_spx, nu_spx), 1e-6, F_spx)\n",
    "Sabr_call_spx = quad(lambda x: sabrcallintegrand(r2, S0_spx, x, T2, alpha_spx, beta_spx, rho_spx, nu_spx), F_spx, 5000)\n",
    "E_var_sabr_Spx = 2*np.exp(r2*T2)*(Sabr_put_spx[0] + Sabr_call_spx[0])\n",
    "MF_sabr_Spx = np.sqrt(E_var_sabr_Spx/T2)\n",
    "\n",
    "#SPY\n",
    "Sabr_put_spy = quad(lambda x: sabrputintegrand(r2, S0_spy, x, T2, alpha_spy, beta_spy, rho_spy, nu_spy), 1e-6, F_spy)\n",
    "Sabr_call_spy = quad(lambda x: sabrcallintegrand(r2, S0_spy, x, T2, alpha_spy, beta_spy, rho_spy, nu_spy), F_spy, 5000)\n",
    "E_var_sabr_Spy = 2*np.exp(r2*T2)*(Sabr_put_spy[0] + Sabr_call_spy[0])\n",
    "MF_sabr_Spy = np.sqrt(E_var_sabr_Spy/T2)\n",
    "\n",
    "print(f'Variance: E_var_sabr_Spx = {E_var_sabr_Spx:.4f}, E_var_sabr_Spy = {E_var_sabr_Spy:.4f}')\n",
    "print(f'Sigma: MF_sabr_Spx = {MF_sabr_Spx:.4f}, MF_sabr_Spy = {MF_sabr_Spy:.4f}')"
   ]
  },
  {
   "cell_type": "markdown",
   "id": "adba4cf3",
   "metadata": {},
   "source": [
    "> Summary Table."
   ]
  },
  {
   "cell_type": "code",
   "execution_count": 29,
   "id": "1d8f3677",
   "metadata": {},
   "outputs": [
    {
     "data": {
      "text/html": [
       "<div>\n",
       "<style scoped>\n",
       "    .dataframe tbody tr th:only-of-type {\n",
       "        vertical-align: middle;\n",
       "    }\n",
       "\n",
       "    .dataframe tbody tr th {\n",
       "        vertical-align: top;\n",
       "    }\n",
       "\n",
       "    .dataframe thead th {\n",
       "        text-align: right;\n",
       "    }\n",
       "</style>\n",
       "<table border=\"1\" class=\"dataframe\">\n",
       "  <thead>\n",
       "    <tr style=\"text-align: right;\">\n",
       "      <th></th>\n",
       "      <th>Black-Scholes</th>\n",
       "      <th>Bachelier</th>\n",
       "      <th>SABR</th>\n",
       "    </tr>\n",
       "  </thead>\n",
       "  <tbody>\n",
       "    <tr>\n",
       "      <th>SPX T=45</th>\n",
       "      <td>0.188860</td>\n",
       "      <td>0.188860</td>\n",
       "      <td>0.226675</td>\n",
       "    </tr>\n",
       "    <tr>\n",
       "      <th>SPY T=45</th>\n",
       "      <td>0.197767</td>\n",
       "      <td>0.197767</td>\n",
       "      <td>0.220901</td>\n",
       "    </tr>\n",
       "  </tbody>\n",
       "</table>\n",
       "</div>"
      ],
      "text/plain": [
       "          Black-Scholes  Bachelier      SABR\n",
       "SPX T=45       0.188860   0.188860  0.226675\n",
       "SPY T=45       0.197767   0.197767  0.220901"
      ]
     },
     "execution_count": 29,
     "metadata": {},
     "output_type": "execute_result"
    }
   ],
   "source": [
    "sigma_Model_Free = pd.DataFrame({'SPX T=45' : [MF_SPX_BS,\n",
    "                                               MF_SPX_bachelier,\n",
    "                                               MF_sabr_Spx],\n",
    "                                 'SPY T=45' : [MF_SPY_BS,\n",
    "                                               MF_SPY_bachelier,\n",
    "                                               MF_sabr_Spy]}).T\n",
    "sigma_Model_Free.columns = ['Black-Scholes', 'Bachelier', 'SABR']\n",
    "sigma_Model_Free"
   ]
  },
  {
   "cell_type": "code",
   "execution_count": 30,
   "id": "7378261c",
   "metadata": {},
   "outputs": [
    {
     "data": {
      "text/html": [
       "<div>\n",
       "<style scoped>\n",
       "    .dataframe tbody tr th:only-of-type {\n",
       "        vertical-align: middle;\n",
       "    }\n",
       "\n",
       "    .dataframe tbody tr th {\n",
       "        vertical-align: top;\n",
       "    }\n",
       "\n",
       "    .dataframe thead th {\n",
       "        text-align: right;\n",
       "    }\n",
       "</style>\n",
       "<table border=\"1\" class=\"dataframe\">\n",
       "  <thead>\n",
       "    <tr style=\"text-align: right;\">\n",
       "      <th></th>\n",
       "      <th>Black-Scholes</th>\n",
       "      <th>Bachelier</th>\n",
       "      <th>SABR</th>\n",
       "    </tr>\n",
       "  </thead>\n",
       "  <tbody>\n",
       "    <tr>\n",
       "      <th>SPX T=45</th>\n",
       "      <td>0.004397</td>\n",
       "      <td>0.004397</td>\n",
       "      <td>0.006335</td>\n",
       "    </tr>\n",
       "    <tr>\n",
       "      <th>SPY T=45</th>\n",
       "      <td>0.004822</td>\n",
       "      <td>0.004822</td>\n",
       "      <td>0.006016</td>\n",
       "    </tr>\n",
       "  </tbody>\n",
       "</table>\n",
       "</div>"
      ],
      "text/plain": [
       "          Black-Scholes  Bachelier      SABR\n",
       "SPX T=45       0.004397   0.004397  0.006335\n",
       "SPY T=45       0.004822   0.004822  0.006016"
      ]
     },
     "execution_count": 30,
     "metadata": {},
     "output_type": "execute_result"
    }
   ],
   "source": [
    "variance = pd.DataFrame({'SPX T=45' : [E_var_SPX_BS,\n",
    "                                       E_var_SPX_bachelier,\n",
    "                                       E_var_sabr_Spx],\n",
    "                         'SPY T=45' : [E_var_SPY_BS,\n",
    "                                       E_var_SPY_bachelier,\n",
    "                                       E_var_sabr_Spy]}).T\n",
    "variance.columns = ['Black-Scholes', 'Bachelier', 'SABR']\n",
    "variance"
   ]
  }
 ],
 "metadata": {
  "kernelspec": {
   "display_name": "Python 3 (ipykernel)",
   "language": "python",
   "name": "python3"
  },
  "language_info": {
   "codemirror_mode": {
    "name": "ipython",
    "version": 3
   },
   "file_extension": ".py",
   "mimetype": "text/x-python",
   "name": "python",
   "nbconvert_exporter": "python",
   "pygments_lexer": "ipython3",
   "version": "3.11.4"
  }
 },
 "nbformat": 4,
 "nbformat_minor": 5
}
