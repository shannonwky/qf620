{
 "cells": [
  {
   "cell_type": "markdown",
   "id": "77c17924",
   "metadata": {},
   "source": [
    "# PART 4: Dynamic Hedging"
   ]
  },
  {
   "cell_type": "markdown",
   "id": "6e1f47cc",
   "metadata": {},
   "source": [
    "> Import packages"
   ]
  },
  {
   "cell_type": "code",
   "execution_count": 19,
   "id": "60a09806",
   "metadata": {},
   "outputs": [],
   "source": [
    "from scipy.stats import norm\n",
    "import pandas as pd\n",
    "import numpy as np\n",
    "import matplotlib.pylab as plt\n",
    "from scipy.optimize import least_squares\n",
    "from scipy.optimize import brentq\n",
    "import matplotlib.pylab as plt\n",
    "import matplotlib as mpl\n",
    "import warnings\n",
    "warnings.filterwarnings(\"ignore\")"
   ]
  },
  {
   "cell_type": "code",
   "execution_count": 3,
   "id": "f4b61736",
   "metadata": {},
   "outputs": [],
   "source": [
    "np.set_printoptions(precision = 3)\n",
    "\n",
    "plt.style.use(\"ggplot\")\n",
    "\n",
    "mpl.rcParams[\"axes.grid\"] = True\n",
    "mpl.rcParams[\"grid.color\"] = \"grey\"\n",
    "mpl.rcParams[\"grid.alpha\"] = 0.25\n",
    "\n",
    "mpl.rcParams[\"axes.facecolor\"] = \"white\"\n",
    "\n",
    "mpl.rcParams[\"legend.fontsize\"] = 10"
   ]
  },
  {
   "cell_type": "markdown",
   "id": "d6a1e558",
   "metadata": {},
   "source": [
    " # <a id = \"top\">Contents</a>"
   ]
  },
  {
   "cell_type": "markdown",
   "id": "845749a8",
   "metadata": {},
   "source": [
    "# [1. Function Defination](#p1)\n",
    "# [2. Calculate Hedging Error](#p2)\n",
    "# [3. Plot and Discription Statistics](#p3)"
   ]
  },
  {
   "cell_type": "markdown",
   "id": "ee57508f",
   "metadata": {},
   "source": [
    "#  <a id = \"p1\"> 1.<font color = \"green\">Function Defination [(back to contents)](#top)"
   ]
  },
  {
   "cell_type": "markdown",
   "id": "0bc633b6",
   "metadata": {},
   "source": [
    "Black-Scholes introduced the notion of dynamic delta hedging - by executing delta hedges instantaneously, we ensure that our portfolio is delta neutral, and consequently hedged the exposure of our call position using the underlying stock and the risk-free bond. \n",
    "\n",
    "The hedged portfolio is $V_t=\\phi_tS_t+\\psi_tB_t$, where \n",
    "\\begin{equation*}\n",
    "\\phi_t=\\Delta_t=\\frac{\\partial C}{\\partial S}=\\Phi\\left(\\frac{\\log\\frac{S}{K}+\\left(r+\\frac{\\sigma^2}{2}\\right)T}{\\sigma\\sqrt{T}}\\right)\n",
    "\\end{equation*}\n",
    "\n",
    "and\n",
    "\n",
    "\\begin{equation*}\n",
    "\\psi_tB_t=-Ke^{-rT}\\Phi\\left(\\frac{\\log\\frac{S}{K}+\\left(r-\\frac{\\sigma^2}{2}\\right)T}{\\sigma\\sqrt{T}}\\right)\n",
    "\\end{equation*}\n"
   ]
  },
  {
   "cell_type": "code",
   "execution_count": 4,
   "id": "5d31e377",
   "metadata": {},
   "outputs": [],
   "source": [
    "def phi(S, K, r, sigma, T):\n",
    "    d1 = (np.log(S/K)+(r+sigma**2/2)*T) / (sigma*np.sqrt(T))\n",
    "    return norm.cdf(d1)\n",
    "\n",
    "\n",
    "def psi_Bt(S, K, r, sigma, T):\n",
    "    d1 = (np.log(S/K)+(r+sigma**2/2)*T) / (sigma*np.sqrt(T))\n",
    "    d2 = d1 - sigma*np.sqrt(T)\n",
    "    return -K*np.exp(-r*T)*norm.cdf(d2)\n",
    "\n",
    "\n",
    "def simulate_Brownian_Motion(paths, steps, T):\n",
    "    deltaT = T/steps\n",
    "    t = np.linspace(0, T, steps+1)\n",
    "    X = np.c_[np.zeros((paths, 1)),\n",
    "              np.random.randn(paths, steps)]\n",
    "    return t, np.cumsum(np.sqrt(deltaT) * X, axis=1)\n"
   ]
  },
  {
   "cell_type": "code",
   "execution_count": 5,
   "id": "cd8051dd",
   "metadata": {},
   "outputs": [],
   "source": [
    "def calc_error(blackscholespath, T, maturity, S0, K, r, sigma, dt):\n",
    "    \n",
    "    stockhedge_errors = []\n",
    "    bondhedge_errors = []\n",
    "    \n",
    "    for t, S_t in zip(T, blackscholespath):\n",
    "        stock_pos = phi(S_t, K, r, sigma, maturity-t)*S_t\n",
    "        bond_pos = psi_Bt(S_t, K, r, sigma, maturity-t)\n",
    "        V_t = stock_pos + bond_pos\n",
    "        if t == 0.0:\n",
    "            stockhedge_errors.append(0)\n",
    "            bondhedge_errors.append(0)\n",
    "        else:\n",
    "            stockhedge_errors.append(prev_phi*S_t - stock_pos)\n",
    "            bondhedge_errors.append(prev_bond_pos*np.exp(r*dt) - bond_pos)\n",
    "        prev_phi = phi(S_t, K, r, sigma, maturity-t)\n",
    "        prev_bond_pos = bond_pos\n",
    "\n",
    "    return sum(stockhedge_errors)+sum(bondhedge_errors)"
   ]
  },
  {
   "cell_type": "markdown",
   "id": "828e4569",
   "metadata": {},
   "source": [
    "#  <a id = \"p2\"> 2.<font color = \"green\">Calculate Hedging Error [(back to contents)](#top)"
   ]
  },
  {
   "cell_type": "code",
   "execution_count": 6,
   "id": "7a5c4f86",
   "metadata": {},
   "outputs": [],
   "source": [
    "maturity = 1/12\n",
    "r = 0.05\n",
    "S0 = 100.0\n",
    "K = 100.0\n",
    "sigma = 0.2"
   ]
  },
  {
   "cell_type": "code",
   "execution_count": 7,
   "id": "c2f75eb7",
   "metadata": {},
   "outputs": [],
   "source": [
    "total_error_21 = []\n",
    "steps = 21\n",
    "dt = maturity / steps\n",
    "for paths in range(50000):\n",
    "    T, W_T = simulate_Brownian_Motion(1, steps, maturity)\n",
    "    blackscholespath = S0*np.exp((r-sigma**2/2)*T + sigma*W_T[0])\n",
    "    calc_error_21 = calc_error(blackscholespath, T, maturity, S0, K, r, sigma, dt)\n",
    "    total_error_21.append(calc_error_21)"
   ]
  },
  {
   "cell_type": "code",
   "execution_count": 8,
   "id": "22e5c4f9",
   "metadata": {},
   "outputs": [],
   "source": [
    "total_error_84 = []\n",
    "steps = 84\n",
    "dt = maturity / steps\n",
    "for paths in range(50000):\n",
    "    T, W_T = simulate_Brownian_Motion(1, steps, maturity)\n",
    "    blackscholespath = S0*np.exp((r-sigma**2/2)*T + sigma*W_T[0])\n",
    "    calc_error_84 = calc_error(blackscholespath, T, maturity, S0, K, r, sigma, dt)\n",
    "    total_error_84.append(calc_error_84)"
   ]
  },
  {
   "cell_type": "markdown",
   "id": "68626226",
   "metadata": {},
   "source": [
    "#  <a id = \"p3\"> 3.<font color = \"green\"> Plot and Discription Statistics [(back to contents)](#top)"
   ]
  },
  {
   "cell_type": "code",
   "execution_count": 9,
   "id": "aadf99c3",
   "metadata": {},
   "outputs": [],
   "source": [
    "def err_histogram(err_results, N):\n",
    "    plt.hist(err_results,weights = np.ones(len(err_results))/len(err_results),\n",
    "             bins = np.linspace(-2,2,40), color = \"#68AC57\")\n",
    "    plt. gca(). yaxis. set_major_formatter(PercentFormatter(1)) \n",
    "    plt.title(f'Histogram of Hedging Error\\n(Maturity = {N} days)') \n",
    "    plt.xlabel('Hedging Error')\n",
    "    plt. ylabel('Frequency')\n",
    "    plt. yticks(np. arange(0,0.3,0.05))\n",
    "    return"
   ]
  },
  {
   "cell_type": "code",
   "execution_count": 10,
   "id": "c2057773",
   "metadata": {
    "scrolled": false
   },
   "outputs": [
    {
     "data": {
      "image/png": "[encoded data removed]",
      "text/plain": [
       "<Figure size 1200x500 with 2 Axes>"
      ]
     },
     "metadata": {},
     "output_type": "display_data"
    }
   ],
   "source": [
    "from matplotlib.ticker import PercentFormatter\n",
    "\n",
    "plt.figure(figsize=(12, 5))\n",
    "plt.subplot(121)\n",
    "err_histogram(total_error_21, 21)\n",
    "\n",
    "\n",
    "plt.subplot(122)\n",
    "err_histogram(total_error_84, 84)\n",
    "\n",
    "\n",
    "plt.tight_layout()\n",
    "#plt.savefig('/Users/xiangsihan/Desktop/figure5.pdf', format='pdf')\n"
   ]
  },
  {
   "cell_type": "code",
   "execution_count": 13,
   "id": "7631c421",
   "metadata": {},
   "outputs": [],
   "source": [
    "mean_21 = np.mean(total_error_21)\n",
    "mean_84 = np.mean(total_error_84)\n",
    "std_21 = np.std(total_error_21)\n",
    "std_84 = np.std(total_error_84)"
   ]
  },
  {
   "cell_type": "code",
   "execution_count": 15,
   "id": "44adc3aa",
   "metadata": {},
   "outputs": [],
   "source": [
    "def BlackScholesCall(S, K, r, sigma, T):\n",
    "    d1 = (np.log(S/K)+(r+sigma**2/2)*T) / (sigma*np.sqrt(T)) \n",
    "    d2 = d1 - sigma*np.sqrt(T)\n",
    "    return S*norm.cdf(d1) - K*np.exp(-r*T)*norm.cdf(d2)"
   ]
  },
  {
   "cell_type": "code",
   "execution_count": 16,
   "id": "ce86f9d4",
   "metadata": {},
   "outputs": [],
   "source": [
    "option_premium = BlackScholesCall(S0, K, r, sigma, maturity)"
   ]
  },
  {
   "cell_type": "code",
   "execution_count": 17,
   "id": "a8395511",
   "metadata": {},
   "outputs": [],
   "source": [
    "std_premium_21 = std_21/option_premium*100\n",
    "std_premium_84 = std_84/option_premium*100"
   ]
  },
  {
   "cell_type": "code",
   "execution_count": 22,
   "id": "068769d4",
   "metadata": {},
   "outputs": [],
   "source": [
    "result = pd.DataFrame({\"Number of Trades\": [21,84],\n",
    "                      \"Mean\": [mean_21,mean_84],\n",
    "                      \"Standard Deviation\": [std_21, std_84],\n",
    "                      \"Std of Option Premium (%)\": [std_premium_21, std_premium_84]})"
   ]
  },
  {
   "cell_type": "code",
   "execution_count": 23,
   "id": "c7c5e2e8",
   "metadata": {},
   "outputs": [
    {
     "data": {
      "text/html": [
       "<div>\n",
       "<style scoped>\n",
       "    .dataframe tbody tr th:only-of-type {\n",
       "        vertical-align: middle;\n",
       "    }\n",
       "\n",
       "    .dataframe tbody tr th {\n",
       "        vertical-align: top;\n",
       "    }\n",
       "\n",
       "    .dataframe thead th {\n",
       "        text-align: right;\n",
       "    }\n",
       "</style>\n",
       "<table border=\"1\" class=\"dataframe\">\n",
       "  <thead>\n",
       "    <tr style=\"text-align: right;\">\n",
       "      <th></th>\n",
       "      <th>Number of Trades</th>\n",
       "      <th>Mean</th>\n",
       "      <th>Standard Deviation</th>\n",
       "      <th>Std of Option Premium (%)</th>\n",
       "    </tr>\n",
       "  </thead>\n",
       "  <tbody>\n",
       "    <tr>\n",
       "      <th>0</th>\n",
       "      <td>21</td>\n",
       "      <td>0.002971</td>\n",
       "      <td>0.426356</td>\n",
       "      <td>16.972323</td>\n",
       "    </tr>\n",
       "    <tr>\n",
       "      <th>1</th>\n",
       "      <td>84</td>\n",
       "      <td>0.000106</td>\n",
       "      <td>0.218400</td>\n",
       "      <td>8.694053</td>\n",
       "    </tr>\n",
       "  </tbody>\n",
       "</table>\n",
       "</div>"
      ],
      "text/plain": [
       "   Number of Trades      Mean  Standard Deviation  Std of Option Premium (%)\n",
       "0                21  0.002971            0.426356                  16.972323\n",
       "1                84  0.000106            0.218400                   8.694053"
      ]
     },
     "execution_count": 23,
     "metadata": {},
     "output_type": "execute_result"
    }
   ],
   "source": [
    "result"
   ]
  },
  {
   "cell_type": "code",
   "execution_count": null,
   "id": "fc4d4fb6",
   "metadata": {},
   "outputs": [],
   "source": []
  }
 ],
 "metadata": {
  "kernelspec": {
   "display_name": "Python 3 (ipykernel)",
   "language": "python",
   "name": "python3"
  },
  "language_info": {
   "codemirror_mode": {
    "name": "ipython",
    "version": 3
   },
   "file_extension": ".py",
   "mimetype": "text/x-python",
   "name": "python",
   "nbconvert_exporter": "python",
   "pygments_lexer": "ipython3",
   "version": "3.11.3"
  }
 },
 "nbformat": 4,
 "nbformat_minor": 5
}
